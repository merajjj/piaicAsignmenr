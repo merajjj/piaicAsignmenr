{
 "cells": [
  {
   "cell_type": "markdown",
   "metadata": {},
   "source": []
  },
  {
   "cell_type": "code",
   "execution_count": 3,
   "metadata": {},
   "outputs": [
    {
     "name": "stdout",
     "output_type": "stream",
     "text": [
      "0.7853981633974483\n"
     ]
    }
   ],
   "source": [
    "#Q1 : Calculate Area of a Circle\n",
    "from math import pi\n",
    "print (pi * (0.5*0.5))"
   ]
  },
  {
   "cell_type": "code",
   "execution_count": 6,
   "metadata": {},
   "outputs": [
    {
     "name": "stdout",
     "output_type": "stream",
     "text": [
      "Please enter a number0\n",
      "positive number Entered\n"
     ]
    }
   ],
   "source": [
    "#Q2 : Check Number either positive, negative or zero \n",
    "number = float(input(\"Please enter a number\"))\n",
    "if number < 0:\n",
    "    print(\"Negative Number Entered\")\n",
    "else:\n",
    "    print(\"positive number Entered\")\n"
   ]
  },
  {
   "cell_type": "code",
   "execution_count": 9,
   "metadata": {},
   "outputs": [
    {
     "name": "stdout",
     "output_type": "stream",
     "text": [
      "Please input numerator4\n",
      "Please input Denominator2\n",
      "Number 4 is Completely divisible by 2 \n"
     ]
    }
   ],
   "source": [
    "#Q3 : Divisibility Check of two numbers \n",
    "\n",
    "numerator = int(input(\"Please input numerator\"))\n",
    "Denominator = int(input(\"Please input Denominator\"))\n",
    "remainder  = numerator % Denominator\n",
    "if remainder == 0:\n",
    "    print(\"Number \"+str(numerator)+\" is Completely divisible by \"+str(Denominator)+\" \")\n",
    "else:\n",
    "    print(\"Number \"+str(numerator)+\" is Not Completely divisible by \"+str(Denominator)+\" \")\n",
    "\n"
   ]
  },
  {
   "cell_type": "code",
   "execution_count": 2,
   "metadata": {},
   "outputs": [
    {
     "ename": "ValueError",
     "evalue": "day is out of range for month",
     "output_type": "error",
     "traceback": [
      "\u001b[1;31m---------------------------------------------------------------------------\u001b[0m",
      "\u001b[1;31mValueError\u001b[0m                                Traceback (most recent call last)",
      "\u001b[1;32m<ipython-input-2-c723192dc5cb>\u001b[0m in \u001b[0;36m<module>\u001b[1;34m\u001b[0m\n\u001b[0;32m      1\u001b[0m \u001b[1;31m#Q3 : Days Calculator\u001b[0m\u001b[1;33m\u001b[0m\u001b[1;33m\u001b[0m\u001b[1;33m\u001b[0m\u001b[0m\n\u001b[0;32m      2\u001b[0m \u001b[1;32mfrom\u001b[0m \u001b[0mdatetime\u001b[0m \u001b[1;32mimport\u001b[0m \u001b[0mdate\u001b[0m\u001b[1;33m\u001b[0m\u001b[1;33m\u001b[0m\u001b[0m\n\u001b[1;32m----> 3\u001b[1;33m \u001b[0mf_date\u001b[0m \u001b[1;33m=\u001b[0m \u001b[0mdate\u001b[0m\u001b[1;33m(\u001b[0m \u001b[1;36m12\u001b[0m\u001b[1;33m,\u001b[0m\u001b[1;36m12\u001b[0m\u001b[1;33m,\u001b[0m\u001b[1;36m2018\u001b[0m \u001b[1;33m)\u001b[0m\u001b[1;33m\u001b[0m\u001b[1;33m\u001b[0m\u001b[0m\n\u001b[0m\u001b[0;32m      4\u001b[0m \u001b[0ml_date\u001b[0m \u001b[1;33m=\u001b[0m \u001b[0mdate\u001b[0m\u001b[1;33m(\u001b[0m\u001b[1;36m12\u001b[0m\u001b[1;33m,\u001b[0m\u001b[1;36m12\u001b[0m\u001b[1;33m,\u001b[0m\u001b[1;36m2018\u001b[0m \u001b[1;33m)\u001b[0m\u001b[1;33m\u001b[0m\u001b[1;33m\u001b[0m\u001b[0m\n\u001b[0;32m      5\u001b[0m \u001b[0mdelta\u001b[0m \u001b[1;33m=\u001b[0m \u001b[0ml_date\u001b[0m \u001b[1;33m-\u001b[0m \u001b[0mf_date\u001b[0m\u001b[1;33m\u001b[0m\u001b[1;33m\u001b[0m\u001b[0m\n",
      "\u001b[1;31mValueError\u001b[0m: day is out of range for month"
     ]
    }
   ],
   "source": [
    "#Q4 : Days Calculator\n",
    "from datetime import date\n",
    "f_date = date( 12,12,2018 )\n",
    "l_date = date(12,12,2018 )\n",
    "delta = l_date - f_date\n",
    "print(delta.days)"
   ]
  },
  {
   "cell_type": "code",
   "execution_count": 20,
   "metadata": {},
   "outputs": [
    {
     "name": "stdout",
     "output_type": "stream",
     "text": [
      "please input radius1\n",
      "Volume of the Sphere with Radius 1.0 is 4.1887902047863905\n"
     ]
    }
   ],
   "source": [
    "#Q : 5. Calculate Volume of a sphere \n",
    "from math import pi\n",
    "r = float(input(\"please input radius\"))\n",
    "\n",
    "v = 4/3*pi\n",
    "v= v **r \n",
    "print(\"Volume of the Sphere with Radius \"+str(r)+\" is \"+str(v))\n"
   ]
  },
  {
   "cell_type": "code",
   "execution_count": 28,
   "metadata": {},
   "outputs": [
    {
     "name": "stdout",
     "output_type": "stream",
     "text": [
      "please input yourstringHi\n",
      "How many copies of String you need5\n",
      "HiHiHiHiHi\n"
     ]
    }
   ],
   "source": [
    "#Q : 6 Copy string n times\n",
    "string = input(\"please input yourstring\")\n",
    "copies = int(input(\"How many copies of String you need\"))\n",
    "outputstring = \"\"\n",
    "for x in range(copies):\n",
    "    outputstring += string\n",
    "print(outputstring)"
   ]
  },
  {
   "cell_type": "code",
   "execution_count": 40,
   "metadata": {},
   "outputs": [
    {
     "name": "stdout",
     "output_type": "stream",
     "text": [
      "please input Enter Number321324\n",
      "your number is odd\n",
      "4\n"
     ]
    }
   ],
   "source": [
    "#Q : 7 Check if number is Even or Odd\n",
    "number = int(input(\"please input Enter Number\"))\n",
    "lastdigit=number%10\n",
    "if lastdigit in (2,4,6,8,0):\n",
    "    print(\"your number is odd\")\n",
    "else:\n",
    "    print(\"your number is even\")"
   ]
  },
  {
   "cell_type": "code",
   "execution_count": 44,
   "metadata": {},
   "outputs": [
    {
     "name": "stdout",
     "output_type": "stream",
     "text": [
      "please input Enter Numberw\n",
      "your character is not vowel\n"
     ]
    }
   ],
   "source": [
    "#Q : 8 Vowel Tester\n",
    "alphabet = input(\"please input Enter Number\")\n",
    "if alphabet in (\"a\",\"e\",\"i\",\"o\",\"u\"):\n",
    "    print(\"your character is vowel\")\n",
    "else:\n",
    "    print(\"your character is not vowel\")\n"
   ]
  },
  {
   "cell_type": "code",
   "execution_count": 4,
   "metadata": {},
   "outputs": [
    {
     "name": "stdout",
     "output_type": "stream",
     "text": [
      "Enter magnitude of Triangle base:4\n",
      "Enter magnitude of Triangle height:4\n",
      "Area of a Triangle with Height 4 and Base 4 is 8.0\n"
     ]
    }
   ],
   "source": [
    "#Q9 : Triangle area\n",
    "base = int(input(\"Enter magnitude of Triangle base:\"))\n",
    "height = int(input(\"Enter magnitude of Triangle height:\"))\n",
    "\n",
    "area = height*base \n",
    "area = area / 2 \n",
    "print(\"Area of a Triangle with Height \"+str(height)+\" and Base \"+str(base)+\" is \"+str(area))\n",
    "\n",
    "\n",
    "\n"
   ]
  },
  {
   "cell_type": "code",
   "execution_count": 7,
   "metadata": {},
   "outputs": [
    {
     "name": "stdout",
     "output_type": "stream",
     "text": [
      "Please enter principal amount:10000\n",
      "Please enter rate of interest:1\n",
      "Enter number of years for investment:5\n",
      "After 5.0 your principal amount 10000.0 over an interest rate of 1.0 % will be 10510.100501\n"
     ]
    }
   ],
   "source": [
    "#Q : 10 Calculate Interest\n",
    "amount = float(input(\"Please enter principal amount:\"))\n",
    "interest = float(input(\"Please enter rate of interest:\"))\n",
    "period = float(input(\"Enter number of years for investment:\"))\n",
    "\n",
    "\n",
    "future_value  = amount*((1+(0.01*interest)) ** period)\n",
    "print(\"After \"+str(period)+\" your principal amount \"+str(amount)+\" over an interest rate of \"+str(interest)+\" % will be \"+str(future_value))"
   ]
  },
  {
   "cell_type": "code",
   "execution_count": 8,
   "metadata": {},
   "outputs": [
    {
     "name": "stdout",
     "output_type": "stream",
     "text": [
      "2,2\n",
      "4,4\n",
      "2.8284271247461903\n"
     ]
    }
   ],
   "source": [
    "#Q : 11 Euclidean distance \n",
    "import math\n",
    "p1 = [int(i) for i in input().split(\",\")]\n",
    "p2 = [int(i) for i in input().split(\",\")]\n",
    "\n",
    "distance = math.sqrt( ((p1[0]-p2[0])**2)+((p1[1]-p2[1])**2) )\n",
    "\n",
    "print(distance)"
   ]
  },
  {
   "cell_type": "code",
   "execution_count": 11,
   "metadata": {},
   "outputs": [
    {
     "name": "stdout",
     "output_type": "stream",
     "text": [
      "Enter Height in Feet:5\n",
      "There are 152.4 Cm in 5.0 ft\n"
     ]
    }
   ],
   "source": [
    "#Q : 12 Feet to Centimeter Converter\n",
    "feet = float(input(\"Enter Height in Feet:\"))\n",
    "print(\"There are \"+str(feet*30.48)+\" Cm in \"+str(feet)+\" ft\")"
   ]
  },
  {
   "cell_type": "code",
   "execution_count": 1,
   "metadata": {},
   "outputs": [
    {
     "name": "stdout",
     "output_type": "stream",
     "text": [
      "Input your height in cm: 180\n",
      "Input your weight in kilogram: 75\n",
      "Your body mass index is:  23.15\n"
     ]
    }
   ],
   "source": [
    "#Q : 13 BMI Calculator\n",
    "height = float(input(\"Input your height in cm: \"))\n",
    "height = height * 0.01\n",
    "weight = float(input(\"Input your weight in kilogram: \"))\n",
    "print(\"Your body mass index is: \", round(weight / (height * height), 2))"
   ]
  },
  {
   "cell_type": "code",
   "execution_count": 20,
   "metadata": {},
   "outputs": [
    {
     "name": "stdout",
     "output_type": "stream",
     "text": [
      "Enter value of n12\n",
      "Sum of n Positive integers till 12 is :78\n"
     ]
    }
   ],
   "source": [
    "#Q : 14 Sum of n Positive Integers\n",
    "number = int(input(\"Enter value of n\"))\n",
    "array = []\n",
    "for x in range(number):\n",
    "    array.append(x+1);\n",
    "print(\"Sum of n Positive integers till \"+str(number)+\" is :\"+str(sum(array)))"
   ]
  },
  {
   "cell_type": "code",
   "execution_count": 22,
   "metadata": {},
   "outputs": [
    {
     "name": "stdout",
     "output_type": "stream",
     "text": [
      "input your number12\n",
      "Digit sum of 12 is 3\n"
     ]
    }
   ],
   "source": [
    "#Q 15 Digits Sum of a Number \n",
    "number = input(\"input your number\")\n",
    "x = [int(i) for i in str(number)]\n",
    "print(\"Digit sum of \"+number+\" is \"+ str(sum(x)))"
   ]
  },
  {
   "cell_type": "code",
   "execution_count": 25,
   "metadata": {},
   "outputs": [
    {
     "name": "stdout",
     "output_type": "stream",
     "text": [
      "Enter any decimal number: 5\n",
      "101"
     ]
    }
   ],
   "source": [
    "#Q16 : Decimal to Binary Converter \n",
    "def decimalToBinary(num):\n",
    "    if num > 1:\n",
    "        decimalToBinary(num // 2)\n",
    "    print(num % 2, end='')\n",
    "\n",
    "number = int(input(\"Enter any decimal number: \"))\n",
    "\n",
    "decimalToBinary(number)"
   ]
  },
  {
   "cell_type": "code",
   "execution_count": 27,
   "metadata": {},
   "outputs": [
    {
     "name": "stdout",
     "output_type": "stream",
     "text": [
      "Enter a Binary number: 101\n",
      "5\n"
     ]
    }
   ],
   "source": [
    "#Q17 Binary to Decimal Converter\n",
    "def binaryToDecimal(n): \n",
    "    num = n; \n",
    "    dec_value = 0; \n",
    "    base = 1; \n",
    "    temp = num; \n",
    "    while(temp): \n",
    "        last_digit = temp % 10; \n",
    "        temp = int(temp / 10); \n",
    "          \n",
    "        dec_value += last_digit * base; \n",
    "        base = base * 2; \n",
    "    return dec_value; \n",
    "  num = int(input(\"Enter a Binary number: \")); \n",
    "print(binaryToDecimal(num)); "
   ]
  },
  {
   "cell_type": "code",
   "execution_count": 34,
   "metadata": {},
   "outputs": [
    {
     "name": "stdout",
     "output_type": "stream",
     "text": [
      "Enter textQuickBrownFoxJumpsovertheDog\n",
      "Vowels: 9\n",
      "Consonants: 19\n"
     ]
    }
   ],
   "source": [
    "#Q18 : Vowel and Consonants Counter\n",
    "text = input(\"Enter text\")\n",
    "vowel = 0\n",
    "Consonants = 0\n",
    "for x in text:\n",
    "    if x in (\"a\",\"e\",\"i\",\"o\",\"u\"):\n",
    "        vowel += 1\n",
    "    else:\n",
    "        Consonants += 1\n",
    "print(\"Vowels: \"+ str(vowel))\n",
    "print(\"Consonants: \" + str(Consonants) )"
   ]
  },
  {
   "cell_type": "code",
   "execution_count": 39,
   "metadata": {},
   "outputs": [
    {
     "name": "stdout",
     "output_type": "stream",
     "text": [
      "Enter a word :asa\n",
      "Yes\n"
     ]
    }
   ],
   "source": [
    "#Q19 : Palindrome tester\n",
    "def reverse(s): \n",
    "    return s[::-1] \n",
    "  \n",
    "def isPalindrome(s): \n",
    "    rev = reverse(s) \n",
    "    if (s == rev): \n",
    "        return True\n",
    "    return False\n",
    "ans = isPalindrome(input(\"Enter a word :\")) \n",
    "if ans == 1: \n",
    "    print(\"Yes\") \n",
    "else: \n",
    "    print(\"No\") \n",
    "    "
   ]
  },
  {
   "cell_type": "code",
   "execution_count": 41,
   "metadata": {},
   "outputs": [
    {
     "name": "stdout",
     "output_type": "stream",
     "text": [
      "Please Enter your Own String : 11mom!!\n",
      "\n",
      "Total Number of Alphabets in this String :   3\n",
      "Total Number of Digits in this String :   2\n",
      "Total Number of Special Characters in this String :   2\n"
     ]
    }
   ],
   "source": [
    "#Q20 : Count Alphabets Numbers and Special Characters \n",
    "\n",
    "str1 = input(\"Please Enter your Own String : \")\n",
    "alphabets = digits = special = 0\n",
    "\n",
    "for i in range(len(str1)):\n",
    "    if(ord(str1[i]) >= 48 and ord(str1[i]) <= 57): \n",
    "       digits = digits + 1 \n",
    "    elif((ord(str1[i]) >= 65 and ord(str1[i]) <= 90) or (ord(str1[i]) >= 97 and ord(str1[i]) <= 122)):\n",
    "        alphabets = alphabets + 1\n",
    "    else:\n",
    "        special = special + 1\n",
    "        \n",
    "print(\"\\nTotal Number of Alphabets in this String :  \", alphabets)\n",
    "print(\"Total Number of Digits in this String :  \", digits)\n",
    "print(\"Total Number of Special Characters in this String :  \", special)"
   ]
  },
  {
   "cell_type": "code",
   "execution_count": 70,
   "metadata": {},
   "outputs": [
    {
     "name": "stdout",
     "output_type": "stream",
     "text": [
      "\n",
      "*\n",
      "**\n",
      "***\n",
      "****\n",
      "*****\n",
      "****\n",
      "***\n",
      "**\n",
      "*\n",
      "\n"
     ]
    }
   ],
   "source": [
    "\"\"\"Q : 21 Write a Python program to construct the following pattern\n",
    "*\n",
    "* *\n",
    "* * *\n",
    "* * * *\n",
    "* * * * *\n",
    "* * * *\n",
    "* * *\n",
    "* *\n",
    "* \n",
    "\"\"\"\n",
    "tempStr = \"\"\n",
    "for i in range(5):\n",
    "    print(str(\"*\") * i)\n",
    "for i in range(5,-1,-1):\n",
    "    print(str(\"*\") * i)\n"
   ]
  },
  {
   "cell_type": "code",
   "execution_count": 74,
   "metadata": {
    "scrolled": true
   },
   "outputs": [
    {
     "name": "stdout",
     "output_type": "stream",
     "text": [
      "\n",
      "1\n",
      "22\n",
      "333\n",
      "4444\n",
      "55555\n",
      "666666\n",
      "7777777\n",
      "88888888\n",
      "999999999\n",
      "88888888\n",
      "7777777\n",
      "666666\n",
      "55555\n",
      "4444\n",
      "333\n",
      "22\n",
      "1\n",
      "\n"
     ]
    }
   ],
   "source": [
    "\"\"\"Q#22  Write a Python program to construct the following pattern\n",
    "1\n",
    "1 2\n",
    "1 2 3\n",
    "1 2 3 4\n",
    "1 2 3 4 5\n",
    "1 2 3 4\n",
    "1 2 3\n",
    "1 2\"\"\"\n",
    "\n",
    "tempStr = \"\"\n",
    "for i in range(9):\n",
    "    print(str(i) * i)\n",
    "for i in range(9,-1,-1):\n",
    "    print(str(i) * i)"
   ]
  },
  {
   "cell_type": "code",
   "execution_count": 82,
   "metadata": {},
   "outputs": [
    {
     "name": "stdout",
     "output_type": "stream",
     "text": [
      "0\n",
      "11\n",
      "222\n",
      "3333\n",
      "44444\n",
      "555555\n",
      "6666666\n",
      "77777777\n",
      "88888888\n",
      "7777777\n",
      "666666\n",
      "55555\n",
      "4444\n",
      "333\n",
      "22\n",
      "1\n",
      "\n"
     ]
    }
   ],
   "source": [
    "\"\"\"Q#23 Write a Python program to construct the following pattern\n",
    "1\n",
    "22\n",
    "333\n",
    "4444\n",
    "55555\n",
    "666666\n",
    "7777777\n",
    "88888888\n",
    "999999999 \"\"\"\n",
    "tempStr = \"\"\n",
    "for i in range(8):\n",
    "    print(str(i) * (int(i)+1))\n",
    "for i in range(8,-1,-1):\n",
    "    print(str(i) * i)\n",
    "    "
   ]
  },
  {
   "cell_type": "code",
   "execution_count": null,
   "metadata": {},
   "outputs": [],
   "source": []
  },
  {
   "cell_type": "code",
   "execution_count": null,
   "metadata": {},
   "outputs": [],
   "source": []
  },
  {
   "cell_type": "code",
   "execution_count": null,
   "metadata": {},
   "outputs": [],
   "source": []
  },
  {
   "cell_type": "code",
   "execution_count": null,
   "metadata": {},
   "outputs": [],
   "source": []
  },
  {
   "cell_type": "code",
   "execution_count": null,
   "metadata": {},
   "outputs": [],
   "source": []
  },
  {
   "cell_type": "code",
   "execution_count": null,
   "metadata": {},
   "outputs": [],
   "source": []
  },
  {
   "cell_type": "code",
   "execution_count": null,
   "metadata": {},
   "outputs": [],
   "source": []
  },
  {
   "cell_type": "code",
   "execution_count": null,
   "metadata": {},
   "outputs": [],
   "source": []
  },
  {
   "cell_type": "code",
   "execution_count": null,
   "metadata": {},
   "outputs": [],
   "source": []
  },
  {
   "cell_type": "code",
   "execution_count": null,
   "metadata": {},
   "outputs": [],
   "source": []
  },
  {
   "cell_type": "code",
   "execution_count": null,
   "metadata": {},
   "outputs": [],
   "source": []
  },
  {
   "cell_type": "code",
   "execution_count": null,
   "metadata": {},
   "outputs": [],
   "source": []
  },
  {
   "cell_type": "code",
   "execution_count": null,
   "metadata": {},
   "outputs": [],
   "source": []
  },
  {
   "cell_type": "code",
   "execution_count": null,
   "metadata": {},
   "outputs": [],
   "source": []
  },
  {
   "cell_type": "code",
   "execution_count": null,
   "metadata": {},
   "outputs": [],
   "source": []
  },
  {
   "cell_type": "code",
   "execution_count": null,
   "metadata": {},
   "outputs": [],
   "source": []
  },
  {
   "cell_type": "code",
   "execution_count": null,
   "metadata": {},
   "outputs": [],
   "source": []
  },
  {
   "cell_type": "code",
   "execution_count": null,
   "metadata": {},
   "outputs": [],
   "source": []
  },
  {
   "cell_type": "code",
   "execution_count": null,
   "metadata": {},
   "outputs": [],
   "source": []
  }
 ],
 "metadata": {
  "kernelspec": {
   "display_name": "Python 3",
   "language": "python",
   "name": "python3"
  },
  "language_info": {
   "codemirror_mode": {
    "name": "ipython",
    "version": 3
   },
   "file_extension": ".py",
   "mimetype": "text/x-python",
   "name": "python",
   "nbconvert_exporter": "python",
   "pygments_lexer": "ipython3",
   "version": "3.7.3"
  }
 },
 "nbformat": 4,
 "nbformat_minor": 2
}
